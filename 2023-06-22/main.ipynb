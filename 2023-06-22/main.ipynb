{
 "cells": [
  {
   "cell_type": "code",
   "execution_count": 1,
   "id": "77b710d9",
   "metadata": {},
   "outputs": [
    {
     "name": "stderr",
     "output_type": "stream",
     "text": [
      "/Users/michaelirvine/git_repos/lancaster-ai-2023/2023-06-22/env/lib/python3.9/site-packages/urllib3/__init__.py:34: NotOpenSSLWarning: urllib3 v2.0 only supports OpenSSL 1.1.1+, currently the 'ssl' module is compiled with 'LibreSSL 2.8.3'. See: https://github.com/urllib3/urllib3/issues/3020\n",
      "  warnings.warn(\n"
     ]
    }
   ],
   "source": [
    "import asyncio\n",
    "import logging\n",
    "import openai\n",
    "import signal\n",
    "from dotenv import load_dotenv\n",
    "\n",
    "load_dotenv()\n",
    "\n",
    "from vocode import getenv\n",
    "from vocode.streaming.streaming_conversation import StreamingConversation\n",
    "from vocode.helpers import create_streaming_microphone_input_and_speaker_output\n",
    "from vocode.streaming.transcriber import *\n",
    "from vocode.streaming.agent import *\n",
    "from vocode.streaming.synthesizer import *\n",
    "from vocode.streaming.models.transcriber import *\n",
    "from vocode.streaming.models.agent import *\n",
    "from vocode.streaming.models.synthesizer import *\n",
    "from vocode.streaming.models.message import BaseMessage\n",
    "\n",
    "class LocalAgent(ChatGPTAgent):\n",
    "    def __init__(\n",
    "        self,\n",
    "        agent_config: ChatGPTAgentConfig,\n",
    "        logger: Optional[logging.Logger] = None,\n",
    "        openai_api_key: Optional[str] = None,\n",
    "    ):\n",
    "        super().__init__(agent_config=agent_config, logger=logger, openai_api_key='fake')\n",
    "        openai.api_base = getenv(\"LOCAL_MODEL_BASE_URL\")\n",
    "        if not openai.api_key:\n",
    "            raise ValueError(\"LOCAL_MODEL_BASE_URL must be set in environment or passed in\")\n",
    "        self.first_response = (\n",
    "            self.create_first_response(agent_config.expected_first_prompt)\n",
    "            if agent_config.expected_first_prompt\n",
    "            else None\n",
    "        )\n",
    "        self.is_first_response = True\n",
    "\n",
    "async def main():\n",
    "    (\n",
    "        microphone_input,\n",
    "        speaker_output,\n",
    "    ) = create_streaming_microphone_input_and_speaker_output(\n",
    "        use_default_devices=False,\n",
    "    )\n",
    "\n",
    "    conversation = StreamingConversation(\n",
    "        output_device=speaker_output,\n",
    "        transcriber=DeepgramTranscriber(\n",
    "            DeepgramTranscriberConfig.from_input_device(\n",
    "                microphone_input,\n",
    "                endpointing_config=PunctuationEndpointingConfig(),\n",
    "            )\n",
    "        ),\n",
    "        agent=LocalAgent(\n",
    "            ChatGPTAgentConfig(\n",
    "                prompt_preamble=\"The following is a chat between a human and an TherapyBot, a therapist AI.\",\n",
    "                initial_message=BaseMessage(text=\"Hi, I'm TherapyBot, your therapist. What can I help you with today?\"),\n",
    "                generate_responses=False,\n",
    "                model=getenv(\"LOCAL_MODEL_NAME\"),\n",
    "                allowed_idle_time_seconds=60\n",
    "            )\n",
    "        ),\n",
    "        synthesizer=ElevenLabsSynthesizer(\n",
    "            ElevenLabsSynthesizerConfig.from_output_device(\n",
    "                speaker_output,\n",
    "            )\n",
    "        ),\n",
    "    )\n",
    "    await conversation.start()\n",
    "    print(\"Conversation started, press Ctrl+C to end\")\n",
    "    signal.signal(signal.SIGINT, lambda _0, _1: conversation.terminate())\n",
    "    while conversation.is_active():\n",
    "        chunk = await microphone_input.get_audio()\n",
    "        conversation.receive_audio(chunk)\n"
   ]
  },
  {
   "cell_type": "code",
   "execution_count": null,
   "id": "985a54ac",
   "metadata": {},
   "outputs": [],
   "source": [
    "await main()"
   ]
  }
 ],
 "metadata": {
  "kernelspec": {
   "display_name": "Python 3 (ipykernel)",
   "language": "python",
   "name": "python3"
  },
  "language_info": {
   "codemirror_mode": {
    "name": "ipython",
    "version": 3
   },
   "file_extension": ".py",
   "mimetype": "text/x-python",
   "name": "python",
   "nbconvert_exporter": "python",
   "pygments_lexer": "ipython3",
   "version": "3.9.6"
  }
 },
 "nbformat": 4,
 "nbformat_minor": 5
}
